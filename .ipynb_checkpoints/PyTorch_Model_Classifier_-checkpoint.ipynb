{
 "cells": [
  {
   "cell_type": "code",
   "execution_count": 16,
   "id": "1c2e3281",
   "metadata": {},
   "outputs": [
    {
     "name": "stdout",
     "output_type": "stream",
     "text": [
      "The Model predicts that it is a LS\n"
     ]
    }
   ],
   "source": [
    "import torch \n",
    "from PIL import Image\n",
    "from torch.utils.data import DataLoader\n",
    "import torchvision\n",
    "from torchvision import datasets\n",
    "import numpy as np\n",
    "import torchvision.transforms as transforms\n",
    "\n",
    "\n",
    "device = 'cuda' if torch.cuda.is_available() else 'cpu'\n",
    "if device == 'cpu':\n",
    "    new_model = torch.load('./trained_models/Pytorch_Classification_50ep.pt',map_location=torch.device('cpu'))\n",
    "else:\n",
    "    new_model = torch.load('./trained_models/Pytorch_Classification_50ep.pt')\n",
    "\n",
    "testing_path = './data/2.jpg' # Place an image to test the classifier\n",
    "IMAGE_SIZE=(128,128)        \n",
    "        \n",
    "\n",
    "\n",
    "\n",
    "\n",
    "\n",
    "\n",
    "def test(model,frame):\n",
    "    data_transformation=transforms.Compose([transforms.ToTensor(),transforms.Resize(IMAGE_SIZE),transforms.Normalize([0.485, 0.456, 0.406],[0.229, 0.224, 0.225])])\n",
    "    images = data_transformation(frame)\n",
    "    with torch.no_grad():\n",
    "        n_correct=0\n",
    "        n_samples=0\n",
    "        #images=images.to(device)\n",
    "        pred = model(images.view([1, 3, 128, 128]).to(device))\n",
    "        _,predictes=torch.max(pred,1)\n",
    "        return predictes\n",
    "\n",
    "#img = cv2.imread(testing_path)\n",
    "img= Image.open(testing_path)\n",
    "predictes = test(new_model,img)\n",
    "\n",
    "if predictes.item()==0:\n",
    "    p='CS'\n",
    "elif predictes.item()==1:\n",
    "    print('ECS')\n",
    "elif predictes.item()==2:\n",
    "    p='FS'\n",
    "elif predictes.item()==3:\n",
    "    p='LS'\n",
    "else:\n",
    "    p='MS'\n",
    "\n",
    "if p!=1:\n",
    "    print(f'The Model predicts that it is a {p}')\n"
   ]
  },
  {
   "cell_type": "code",
   "execution_count": null,
   "id": "26a27c8f",
   "metadata": {},
   "outputs": [],
   "source": []
  }
 ],
 "metadata": {
  "kernelspec": {
   "display_name": "Python 3 (ipykernel)",
   "language": "python",
   "name": "python3"
  },
  "language_info": {
   "codemirror_mode": {
    "name": "ipython",
    "version": 3
   },
   "file_extension": ".py",
   "mimetype": "text/x-python",
   "name": "python",
   "nbconvert_exporter": "python",
   "pygments_lexer": "ipython3",
   "version": "3.10.10"
  }
 },
 "nbformat": 4,
 "nbformat_minor": 5
}
